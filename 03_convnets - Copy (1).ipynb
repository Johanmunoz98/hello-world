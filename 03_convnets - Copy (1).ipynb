{
  "nbformat": 4,
  "nbformat_minor": 0,
  "metadata": {
    "colab": {
      "provenance": []
    },
    "kernelspec": {
      "name": "python3",
      "display_name": "Python 3"
    },
    "language_info": {
      "name": "python"
    },
    "accelerator": "TPU"
  },
  "cells": [
    {
      "cell_type": "markdown",
      "source": [
        "# Redes Convolucionales\n",
        "\n",
        "En este Notebook se llevará acabo el entrenamiento de un modelo de Red Neuronal utilizando Redes Convolcuionales. El objetivo principal es familiarizarse con las redes neuronales convolucionales.\n",
        "\n",
        "\n",
        "# CIFAR-10 Dataset\n",
        "\n",
        "El conjunto de datos CIFAR-10 es un conjunto de datos popular utilizado para entrenar y evaluar algoritmos de aprendizaje automático para la clasificación de imágenes. Consiste en 60,000 imágenes a color de 32x32 píxeles, divididas en 10 clases: avión, automóvil, pájaro, gato, ciervo, perro, rana, caballo, barco y camión. Hay 6,000 imágenes por clase, con 50,000 imágenes para entrenamiento y 10,000 imágenes para pruebas.\n",
        "\n",
        "\n",
        "En este ejercicio entrenaremos el mismo modelo de red neuronal en dos escenarios:\n",
        "\n",
        "1. Escenario con muchos datos\n",
        "2. Escenario con pocos datos\n",
        "\n",
        "Lo anterior nos permitirá entender la importancia de los modelos pre-entrenados (¡que veremos la siguiente sesión!)\n"
      ],
      "metadata": {
        "id": "MXzIyZFLFGfw"
      }
    },
    {
      "cell_type": "markdown",
      "source": [
        "# Descarga de Información\n",
        "\n",
        "Los datos de CIFAR-10 se encuentran en [`TensorFlow Datasets`](https://www.tensorflow.org/api_docs/python/tf/keras/datasets/cifar10/load_data) y se puede acceder a ellos utilizando el método `load_data()`. "
      ],
      "metadata": {
        "id": "HuAr2KI1aTng"
      }
    },
    {
      "cell_type": "code",
      "source": [
        "pip install visualkeras"
      ],
      "metadata": {
        "id": "Um40txXohtUl"
      },
      "execution_count": null,
      "outputs": []
    },
    {
      "cell_type": "code",
      "source": [
        "# Part 1: Building a Convolutional Neural Network from scratch using TensorFlow\n",
        "\n",
        "# Import necessary libraries\n",
        "import tensorflow as tf\n",
        "from tensorflow.keras import datasets, models\n",
        "import matplotlib.pyplot as plt\n",
        "import numpy as np\n",
        "import visualkeras\n",
        "\n",
        "\n",
        "(train_images, train_labels), (test_images, test_labels) = datasets.cifar10.load_data()"
      ],
      "metadata": {
        "id": "zAOBhVKM8oMO"
      },
      "execution_count": null,
      "outputs": []
    },
    {
      "cell_type": "markdown",
      "source": [
        "Una vez cargada la información, procedemos a visualizar el conjunto de datos. "
      ],
      "metadata": {
        "id": "IXlW7Sw7aj9L"
      }
    },
    {
      "cell_type": "code",
      "source": [
        "def plot_cifar10_classes():\n",
        "    # Load the CIFAR-10 dataset\n",
        "    (train_images, train_labels), (test_images, test_labels) = datasets.cifar10.load_data()\n",
        "\n",
        "    # Map class indices to class names\n",
        "    class_names = {\n",
        "        0: 'airplane',\n",
        "        1: 'automobile',\n",
        "        2: 'bird',\n",
        "        3: 'cat',\n",
        "        4: 'deer',\n",
        "        5: 'dog',\n",
        "        6: 'frog',\n",
        "        7: 'horse',\n",
        "        8: 'ship',\n",
        "        9: 'truck'\n",
        "    }\n",
        "\n",
        "    # Combine training images and labels for shuffling\n",
        "    data = list(zip(train_images, train_labels))\n",
        "\n",
        "    # Shuffle the data\n",
        "    np.random.shuffle(data)\n",
        "\n",
        "    # Initialize an empty array to store an image from each class\n",
        "    class_images = np.zeros((10, 32, 32, 3), dtype=np.uint8)\n",
        "\n",
        "    # Iterate over the shuffled data\n",
        "    for image, label in data:\n",
        "        if np.sum(class_images) == 10 * 32 * 32 * 3:\n",
        "            break\n",
        "\n",
        "        if np.sum(class_images[label]) == 0:\n",
        "            class_images[label] = image\n",
        "\n",
        "    # Plot an image from each class\n",
        "    fig, axs = plt.subplots(2, 5, figsize=(12, 6))\n",
        "    fig.suptitle('CIFAR-10 Classes')\n",
        "\n",
        "    for i in range(10):\n",
        "        row = i // 5\n",
        "        col = i % 5\n",
        "        ax = axs[row, col]\n",
        "        ax.imshow(class_images[i])\n",
        "        ax.set_title(class_names[i])\n",
        "        ax.axis('off')\n",
        "\n",
        "    plt.tight_layout()\n",
        "    plt.show()\n",
        "\n",
        "# Call the function to plot the CIFAR-10 classes\n"
      ],
      "metadata": {
        "id": "ZMvlaR8RUAo4"
      },
      "execution_count": null,
      "outputs": []
    },
    {
      "cell_type": "code",
      "source": [
        "plot_cifar10_classes()\n"
      ],
      "metadata": {
        "id": "UOT5OQ-YUrBa"
      },
      "execution_count": null,
      "outputs": []
    },
    {
      "cell_type": "markdown",
      "source": [
        "Se puede apreciar que en efecto existen 10 categorías y que las imágenes son de tamaño reducido. \n",
        "\n",
        "Antes de entrenar nuestro modelo de Red Neuronal, debemos normalizar nuestros datos. Como se trata de imágenes RGB, cada canal tendrá un valor máximo de 255 (intensidad máxima de R, G o B). "
      ],
      "metadata": {
        "id": "mNUsxfV2axnV"
      }
    },
    {
      "cell_type": "code",
      "source": [
        "### Normalice las imágenes de entrenamiento y prueba dividiendo por 255\n",
        "train_images, test_images = None, None\n",
        "###"
      ],
      "metadata": {
        "id": "K4hmIfJNVJtG"
      },
      "execution_count": null,
      "outputs": []
    },
    {
      "cell_type": "code",
      "source": [
        "# Realizamos división en valdiación también\n",
        "from sklearn.model_selection import train_test_split\n",
        "train_images, val_images, train_labels, val_labels = train_test_split(train_images, train_labels, test_size=0.2, random_state=42)"
      ],
      "metadata": {
        "id": "DnsfXguzmpP3"
      },
      "execution_count": null,
      "outputs": []
    },
    {
      "cell_type": "code",
      "source": [
        "def plot_prediction_results(model, num_pixels = None):\n",
        "    # Load the CIFAR-10 dataset\n",
        "    (_, _), (test_images, test_labels) = datasets.cifar10.load_data()\n",
        "    if num_pixels:\n",
        "      original_shape = test_images.shape\n",
        "      test_images = test_images.reshape(test_images.shape[0], num_pixels)\n",
        "\n",
        "    # Normalize the test images\n",
        "    test_images = test_images.astype('float32') / 255\n",
        "\n",
        "    # Get predictions from the model\n",
        "    predictions = model.predict(test_images)\n",
        "    predicted_labels = np.argmax(predictions, axis=1)\n",
        "\n",
        "    if num_pixels:\n",
        "      test_images = test_images.reshape(original_shape)\n",
        "\n",
        "    # Map class indices to class names\n",
        "    class_names = {\n",
        "        0: 'airplane',\n",
        "        1: 'automobile',\n",
        "        2: 'bird',\n",
        "        3: 'cat',\n",
        "        4: 'deer',\n",
        "        5: 'dog',\n",
        "        6: 'frog',\n",
        "        7: 'horse',\n",
        "        8: 'ship',\n",
        "        9: 'truck'\n",
        "    }\n",
        "\n",
        "    # Plot random image, predicted label, true label, and prediction probability\n",
        "    num_plots = 10\n",
        "    fig, axs = plt.subplots(2, 5, figsize=(12, 8))\n",
        "    fig.suptitle('Prediction Results')\n",
        "\n",
        "    # Get shuffled indices for unique image selection\n",
        "    indices = np.arange(len(test_images))\n",
        "    np.random.shuffle(indices)\n",
        "\n",
        "    for i in range(num_plots):\n",
        "        row = i // 5\n",
        "        col = i % 5\n",
        "        ax = axs[row, col]\n",
        "\n",
        "        # Select a unique test sample\n",
        "        index = indices[i]\n",
        "        image = test_images[index]\n",
        "        true_label = test_labels[index][0]\n",
        "        predicted_label = predicted_labels[index]\n",
        "        prediction_probability = predictions[index][predicted_label]\n",
        "\n",
        "        # Set title color based on prediction correctness\n",
        "        title_color = 'green' if predicted_label == true_label else 'red'\n",
        "\n",
        "        # Plot the image, labels, and probability\n",
        "        ax.imshow(image)\n",
        "        ax.set_title(f'Predicted: {class_names[predicted_label]}\\nTrue: {class_names[true_label]}\\nProbability: {prediction_probability:.4f}', color=title_color)\n",
        "        ax.axis('off')\n",
        "\n",
        "    plt.tight_layout(rect=[0, 0, 1, 0.96])\n",
        "    plt.show()\n"
      ],
      "metadata": {
        "id": "ZUEpkemncRC7"
      },
      "execution_count": null,
      "outputs": []
    },
    {
      "cell_type": "markdown",
      "source": [
        "## Benchmark -- Simple Neural Network\n",
        "\n",
        "Para evaluar la efectividad (o superioridad) de las Redes Neuronales Convolucionales, entrenaremos una red neuronal densa simple que ignora la dependencia espacial de los datos.\n",
        "\n",
        "¿Recordamos el Flattenq ue hacíamos al comienzo? Bueno, en esta sección se debe aplicar una estrategia de reshaping, bues se tienen tres canales. R, G, y B. Cada canal tiene dimensión 32*32.\n",
        "\n",
        "![Ejemplo Canales](https://i.stack.imgur.com/I4p5q.png)\n",
        "\n",
        "En este caso, se debería hacer el flatten de cada imagen y concatenar verticalmente los vectores. \n",
        "\n",
        "Vamos paso a paso.\n",
        "\n",
        "\n",
        "1. Determinar el tamaño del vector de cada canal\n",
        "2. Sumar y determinar el tamaño del vector final\n",
        "3. Hacer reshape de la imagen original en el tamaño del vector (ponerlo en una hillera)\n",
        "\n",
        "El primer paso es sencillo, pues todos los canales tienen el mismo tamaño de imagen. Basta con encontrar uno para tener el tamaño de todos los vectores."
      ],
      "metadata": {
        "id": "DOioXIUYba5f"
      }
    },
    {
      "cell_type": "code",
      "source": [
        "### Determina el Tamaño del vector para el canal rojo\n",
        "### Pista: se calcula ancho por alto\n",
        "ancho, alto = None, None\n",
        "vector_canal = None\n",
        "###"
      ],
      "metadata": {
        "id": "RyY1tOvsjdjj"
      },
      "execution_count": null,
      "outputs": []
    },
    {
      "cell_type": "markdown",
      "source": [
        "Una vez  se tiene `vector_canal` se conoce el número de pixeles que hay en total en cada canal. Por lo que el número de pixeles disponible sen la imagen es `vector_canal` multiplicado por el número de canales (en este caso, 3). "
      ],
      "metadata": {
        "id": "K_EVIv0gkHHb"
      }
    },
    {
      "cell_type": "code",
      "source": [
        "### Encuentra el número total de pixeles informativos de la imagen\n",
        "num_pixels = None\n",
        "###"
      ],
      "metadata": {
        "id": "BS8RpyuhkVbH"
      },
      "execution_count": null,
      "outputs": []
    },
    {
      "cell_type": "markdown",
      "source": [
        "Basado en lo anterior, ya es posible realizar un reshape de las imágenes de entrenamiento y prueba, para que puedan ser utilizadas por la red neuronal simple. Utiliza el método [`reshape`](https://numpy.org/doc/stable/reference/generated/numpy.reshape.html) para modificar el la dimensión de la imagen a un vector de tamaño `num_pixels`. "
      ],
      "metadata": {
        "id": "d2tSObvKkbkO"
      }
    },
    {
      "cell_type": "code",
      "source": [
        "### Reshape de imágenes de tran y test (asignar nuevo nombre...)\n",
        "\n",
        "train_images_flatten =  None\n",
        "val_images_flatten =  None\n",
        "test_images_flatten =  None\n",
        "\n",
        "###"
      ],
      "metadata": {
        "id": "IHUeqjT9kjN3"
      },
      "execution_count": null,
      "outputs": []
    },
    {
      "cell_type": "markdown",
      "source": [
        "¡Y ahora sí comienza lo bueno! \n",
        "\n",
        "Utilizando lo aprendido hasta el momento, crea un modelo de red neuronal densa (sencillo) para predecir la categoría de cada imagen. "
      ],
      "metadata": {
        "id": "_DuaI4wolAhH"
      }
    },
    {
      "cell_type": "code",
      "source": [
        "### Defina la arquitectura del modelo\n",
        "\n",
        "simple_model = tf.keras.models.Sequential([\n",
        " None\n",
        "\n",
        "])\n",
        "###"
      ],
      "metadata": {
        "id": "NX1V5OdNbww3"
      },
      "execution_count": null,
      "outputs": []
    },
    {
      "cell_type": "code",
      "source": [
        "### Complie el modleo\n",
        "simple_model.compile(None)\n",
        "###"
      ],
      "metadata": {
        "id": "Sv3anVWmcBvd"
      },
      "execution_count": null,
      "outputs": []
    },
    {
      "cell_type": "markdown",
      "source": [
        "Una vez definido y compilado el modelo, se puede realizar una visualización de la cantidad de parámetros que se van a entrenar. Utilice el método [`.summary()`](https://www.tensorflow.org/api_docs/python/tf/keras/Model#summary) para inspeccionar la arquitectura planteada."
      ],
      "metadata": {
        "id": "cUC2NqV7lYiy"
      }
    },
    {
      "cell_type": "code",
      "source": [
        "simple_model.summary()"
      ],
      "metadata": {
        "id": "jIZFw6bacH1W"
      },
      "execution_count": null,
      "outputs": []
    },
    {
      "cell_type": "markdown",
      "source": [
        "Adicionalmente, utilizando la librería `visualkeras` puede entender gráficamente cómo es la red neuronal que planteó. "
      ],
      "metadata": {
        "id": "21Wb2smjl-Zr"
      }
    },
    {
      "cell_type": "code",
      "source": [
        "visualkeras.layered_view(simple_model).show()"
      ],
      "metadata": {
        "id": "ohKXdh_mh-WW"
      },
      "execution_count": null,
      "outputs": []
    },
    {
      "cell_type": "markdown",
      "source": [
        "Una vez inspeccionado el modelo, entrénelo por 10 epochs (a modo de ejemplo. Pero puede utilizar muchas más si lo desea). No olvide incluir callbacks de EarlyStopping. No olvide incluir el dataset de valdiación."
      ],
      "metadata": {
        "id": "rDB9BQdTmFR7"
      }
    },
    {
      "cell_type": "code",
      "source": [
        "### Entrene su modelo\n",
        "early_stopping = tf.keras.callbacks.EarlyStopping(None)\n",
        "\n",
        "history_simple = simple_model.fit(None)\n",
        "###"
      ],
      "metadata": {
        "id": "WomEIySpcCzt"
      },
      "execution_count": null,
      "outputs": []
    },
    {
      "cell_type": "code",
      "source": [
        "### Utilice el método `.evaluate` para determinar el desempeño del modelo en test \n",
        "\n",
        "test_loss, test_acc = None\n",
        "print('\\nTest accuracy:', test_acc)\n",
        "\n",
        "###"
      ],
      "metadata": {
        "id": "uxytmpgDcD_9"
      },
      "execution_count": null,
      "outputs": []
    },
    {
      "cell_type": "markdown",
      "source": [
        "¿Cómo le dio al modelo? ¿Es un buen modelo?"
      ],
      "metadata": {
        "id": "2YJWvxPenFq2"
      }
    },
    {
      "cell_type": "code",
      "source": [
        "plot_prediction_results(simple_model, num_pixels)"
      ],
      "metadata": {
        "id": "DPvCIiHfgJSt"
      },
      "execution_count": null,
      "outputs": []
    },
    {
      "cell_type": "markdown",
      "source": [
        "## Red Convolucional\n",
        "\n",
        "Una vez entrenado un modelo que ingora la información espacial que se encuentra en las imágenes, se realizará el entrenamiento de un modelo con redes neuronales convolucionales. \n",
        "\n",
        "Para esto recuerde que la arquitectura típica de una CNN es como sigue ![Arquitectura típica CNN](https://d33wubrfki0l68.cloudfront.net/a7664cf19de33b2c71a482629f27a0d70f715b77/6949d/images/blog/a-comprehensive-guide-to-convolutional-neural-networks-the-eli5-way.jpg).\n",
        "\n",
        "Utilice elemenso como:\n",
        "- Convoluciones: [`Conv2D`](https://www.tensorflow.org/api_docs/python/tf/keras/layers/Conv2D), se sugiere kernel size `(3, 3)`. \n",
        "- Pooling Layers: [`MaxPool2D`](https://www.tensorflow.org/api_docs/python/tf/keras/layers/MaxPool2D) o [`AveragePooling2D`](https://www.tensorflow.org/api_docs/python/tf/keras/layers/AveragePooling2D) para el downsampling, se sugiere pool_size size `(2, 2)`.\n",
        "- [`Flatten`](https://www.tensorflow.org/api_docs/python/tf/keras/layers/Flatten)\n",
        "- [`Dense`](https://www.tensorflow.org/api_docs/python/tf/keras/layers/Dense)"
      ],
      "metadata": {
        "id": "WWsTn1dRcTQb"
      }
    },
    {
      "cell_type": "code",
      "source": [
        "### Defina su modelo de Red Neuronal\n",
        "model = models.Sequential([\n",
        "   None\n",
        "])\n",
        "\n",
        "###\n"
      ],
      "metadata": {
        "id": "3xu8Kz37GT8H"
      },
      "execution_count": null,
      "outputs": []
    },
    {
      "cell_type": "code",
      "source": [
        "### Compile su modelo\n",
        "model.compile(None)\n",
        "\n",
        "###"
      ],
      "metadata": {
        "id": "oUnzjlxwpQDc"
      },
      "execution_count": null,
      "outputs": []
    },
    {
      "cell_type": "code",
      "source": [
        "model.summary()"
      ],
      "metadata": {
        "id": "pDgk1aLKYW2q"
      },
      "execution_count": null,
      "outputs": []
    },
    {
      "cell_type": "code",
      "source": [
        "tf.keras.utils.plot_model(model, show_shapes=True)"
      ],
      "metadata": {
        "id": "atgg6f1UYdlN"
      },
      "execution_count": null,
      "outputs": []
    },
    {
      "cell_type": "code",
      "source": [
        "visualkeras.layered_view(model).show()"
      ],
      "metadata": {
        "id": "nc5cJwv5h4b_"
      },
      "execution_count": null,
      "outputs": []
    },
    {
      "cell_type": "markdown",
      "source": [
        "¡Y realice el entrenamiento del modelo! Nuevamente, se sugiere con 10 epochs para la clase, pero en su tiempo libre puede entrenarlo con más. "
      ],
      "metadata": {
        "id": "E1YNzZWCpU3Y"
      }
    },
    {
      "cell_type": "code",
      "source": [
        "### Entrene su modelo\n",
        "history_model = model.fit(None)\n",
        "\n",
        "###"
      ],
      "metadata": {
        "id": "IpC-V8ZpYYOX"
      },
      "execution_count": null,
      "outputs": []
    },
    {
      "cell_type": "markdown",
      "source": [
        "A continuación, revise el desempeño de su modelo en Test. ¿Qué tal el accuracy? ¿Está satisfecho?"
      ],
      "metadata": {
        "id": "5rKlKEHTpiav"
      }
    },
    {
      "cell_type": "code",
      "source": [
        "plot_prediction_results(model)"
      ],
      "metadata": {
        "id": "L4Sj2mjpV5zA"
      },
      "execution_count": null,
      "outputs": []
    },
    {
      "cell_type": "code",
      "source": [
        "model.evaluate(test_images, test_labels)"
      ],
      "metadata": {
        "id": "WwsTkZBaV8bl"
      },
      "execution_count": null,
      "outputs": []
    },
    {
      "cell_type": "code",
      "source": [],
      "metadata": {
        "id": "cwrfWT-gYKjd"
      },
      "execution_count": null,
      "outputs": []
    }
  ]
}