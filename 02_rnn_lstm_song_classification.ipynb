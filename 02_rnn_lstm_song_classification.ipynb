{
 "cells": [
  {
   "cell_type": "code",
   "execution_count": 1,
   "metadata": {
    "id": "vpoJQ2MReSSe"
   },
   "outputs": [],
   "source": [
    "import tensorflow as tf\n",
    "import os\n",
    "import numpy as np\n",
    "import pandas as pd\n",
    "from sklearn.model_selection import train_test_split\n",
    "from tensorflow.keras.preprocessing.text import Tokenizer\n",
    "from tensorflow.keras.preprocessing.sequence import pad_sequences\n",
    "from tensorflow.keras.models import Sequential\n",
    "from tensorflow.keras.layers import Embedding, SimpleRNN, LSTM, Dense, Bidirectional"
   ]
  },
  {
   "cell_type": "markdown",
   "metadata": {
    "id": "44v7V3SOZ2m3"
   },
   "source": [
    "En esta sección se realizará un ejercicio de clasificación de canciones en sus respectivos géneros musicales `reggaetón, salsa y ranchera`. ¿Cree que es posible conseguir un modelo capaz de distinguirlos?"
   ]
  },
  {
   "cell_type": "code",
   "execution_count": 2,
   "metadata": {
    "id": "o-tmmhnBwY87"
   },
   "outputs": [],
   "source": [
    "df = pd.read_csv('song_lyrics_df.csv')"
   ]
  },
  {
   "cell_type": "code",
   "execution_count": 3,
   "metadata": {
    "colab": {
     "base_uri": "https://localhost:8080/",
     "height": 206
    },
    "id": "SeEx2xQJtgpk",
    "outputId": "8d42623f-b8e4-43c1-ff77-830135441984"
   },
   "outputs": [
    {
     "data": {
      "text/html": [
       "<div>\n",
       "<style scoped>\n",
       "    .dataframe tbody tr th:only-of-type {\n",
       "        vertical-align: middle;\n",
       "    }\n",
       "\n",
       "    .dataframe tbody tr th {\n",
       "        vertical-align: top;\n",
       "    }\n",
       "\n",
       "    .dataframe thead th {\n",
       "        text-align: right;\n",
       "    }\n",
       "</style>\n",
       "<table border=\"1\" class=\"dataframe\">\n",
       "  <thead>\n",
       "    <tr style=\"text-align: right;\">\n",
       "      <th></th>\n",
       "      <th>song_name</th>\n",
       "      <th>lyrics</th>\n",
       "      <th>genre</th>\n",
       "    </tr>\n",
       "  </thead>\n",
       "  <tbody>\n",
       "    <tr>\n",
       "      <th>0</th>\n",
       "      <td>quizas-part-rich-music-dalex-justin-quiles-wis...</td>\n",
       "      <td>Hola (The Avengers)\\nQuiero saber tu nombre\\nY...</td>\n",
       "      <td>reggaeton</td>\n",
       "    </tr>\n",
       "    <tr>\n",
       "      <th>1</th>\n",
       "      <td>no-es-por-aca.txt</td>\n",
       "      <td>Ya me mordí uno\\nYo ya no la busco\\nDonde se l...</td>\n",
       "      <td>ranchera</td>\n",
       "    </tr>\n",
       "    <tr>\n",
       "      <th>2</th>\n",
       "      <td>ojitos-de-miel.txt</td>\n",
       "      <td>De tus labios me muero por un beso\\nY de tus o...</td>\n",
       "      <td>ranchera</td>\n",
       "    </tr>\n",
       "    <tr>\n",
       "      <th>3</th>\n",
       "      <td>lo-que-va-a-ser-para-uno.txt</td>\n",
       "      <td>No hay que culpar al destino\\nPor encontrarnos...</td>\n",
       "      <td>ranchera</td>\n",
       "    </tr>\n",
       "    <tr>\n",
       "      <th>4</th>\n",
       "      <td>1406330.txt</td>\n",
       "      <td>Ya viene amaneciendo\\nla luz ya nos alumbra,\\n...</td>\n",
       "      <td>ranchera</td>\n",
       "    </tr>\n",
       "  </tbody>\n",
       "</table>\n",
       "</div>"
      ],
      "text/plain": [
       "                                           song_name  \\\n",
       "0  quizas-part-rich-music-dalex-justin-quiles-wis...   \n",
       "1                                  no-es-por-aca.txt   \n",
       "2                                 ojitos-de-miel.txt   \n",
       "3                       lo-que-va-a-ser-para-uno.txt   \n",
       "4                                        1406330.txt   \n",
       "\n",
       "                                              lyrics      genre  \n",
       "0  Hola (The Avengers)\\nQuiero saber tu nombre\\nY...  reggaeton  \n",
       "1  Ya me mordí uno\\nYo ya no la busco\\nDonde se l...   ranchera  \n",
       "2  De tus labios me muero por un beso\\nY de tus o...   ranchera  \n",
       "3  No hay que culpar al destino\\nPor encontrarnos...   ranchera  \n",
       "4  Ya viene amaneciendo\\nla luz ya nos alumbra,\\n...   ranchera  "
      ]
     },
     "execution_count": 3,
     "metadata": {},
     "output_type": "execute_result"
    }
   ],
   "source": [
    "df.head()"
   ]
  },
  {
   "cell_type": "code",
   "execution_count": 4,
   "metadata": {
    "colab": {
     "base_uri": "https://localhost:8080/"
    },
    "id": "CowXY4IbtjWp",
    "outputId": "1e76676b-af12-4e83-b7ef-764aaf34e07e"
   },
   "outputs": [
    {
     "name": "stdout",
     "output_type": "stream",
     "text": [
      "La que te dijo que un vacío se llenó con otra persona, te miente Es como tapar\n",
      "una herida con maquillaje, no se ve, pero se siente Te fuiste diciendo que me\n",
      "superaste y te conseguiste nueva novia Lo que ella no sabe es que tú todavía me\n",
      "está' viendo toa' las Historias Bebé, ¿qué fue? No pues, qué muy tragaíto' ¿Qué\n",
      "haces buscándome el la'o Si sabes que yo, errores, no repito? (papi) Dile a tu\n",
      "nueva bebé Que, por hombres, no compito Que deje de estar tirando Que, al menos,\n",
      "yo te tenía bonito Verte con la nueva, me dolió Pero ya estoy puesta pa' lo mío\n",
      "Lo que vivimos, se me olvidó Y eso es lo que te tiene ofendido Que hasta la vida\n",
      "me mejoró Por acá, ya no eres bienvenido Vi lo que tu novia me tiró Eso no da ni\n",
      "rabia, yo me río, yo me río No tengo tiempo pa' lo que no aporte Ya cambié mi\n",
      "norte Haciendo dinero como deporte Llenando la cuenta, los show', el parking y\n",
      "el pasaporte Estoy más dura, dicen los reportes Ahora tú quieres volver, se te\n",
      "nota, mmm, sí Espérame ahí, que yo soy idiota Se te olvidó que estoy en otra Y\n",
      "que te quedó grande La Bichota Bebé, ¿qué fue? No pues, qué muy tragaíto' ¿Qué\n",
      "haces buscándome el la'o Si sabes que yo, errores, no repito? Dile a tu nueva\n",
      "bebé Que, por hombres, no compito Que deje de estar tirando Que, al menos, yo te\n",
      "tenía bonito (Shakira, Shakira) Tú te fuiste y yo me puse triple M Más buena,\n",
      "más dura, más level Volver contigo, never, tú eres la mala suerte Porque, ahora,\n",
      "la' bendicione' me llueven Y quieres volver, ya lo suponía Dándole like a las\n",
      "fotos mía Tú buscando por fuera la comida Y yo diciendo que era monotonía Y\n",
      "ahora quieres volver, ya lo suponía Dándole like a las fotos mía Te ves feliz\n",
      "con tu nueva vida, pero Si ella supiera que me busca' todavía Bebé, ¿qué fue? No\n",
      "pues, qué muy tragaíto' ¿Qué haces buscándome el la'o Si sabes que yo, errores,\n",
      "no repito? Dile a tu nueva bebé Que, por hombres, no compito (mueve ese culito)\n",
      "Que no tiene buena mano Y, al menos, yo te tenía bonito (O-O-Ovy On The Drums)\n",
      "(Mi amor, es que usted se alejó mucho) (Y yo de lejos ya no veo, bebé) (TQM,\n",
      "pero TQG, jajaja) (Barranquilla, Medallo)\n"
     ]
    }
   ],
   "source": [
    "import textwrap\n",
    "\n",
    "lyrics = df[df.song_name.str.contains('tqg')].lyrics.iloc[0]\n",
    "wrapped_lyrics = textwrap.fill(lyrics, width=80)\n",
    "\n",
    "print(wrapped_lyrics)\n"
   ]
  },
  {
   "cell_type": "markdown",
   "metadata": {
    "id": "Hm7JGQoAwjjN"
   },
   "source": [
    "# 1. Pre-Procesamiento de Texto\n",
    "\n",
    "El Pre-Procesamiento del texto es de los pasos más improtantes en el NLP. Particularmente, es importante estandarizar el texto, eliminar ruido y caracteres especiales. Es importante eliminar palabras que no tienen un significado.\n",
    "\n",
    "A continuación, se va a crear una función que permita eliminar tildes, símbolos, números (a menos que sean relevantes) y espacios extra.\n",
    "\n",
    "Utilizaremos la librería `unicodedata` para eliminar todas las tildes (para entender qué hace, puede consultar [este artículo](https://towardsdatascience.com/difference-between-nfd-nfc-nfkd-and-nfkc-explained-with-python-code-e2631f96ae6c)). Y por medio de la expresión regular `[^a-zA-Z\\s]` se eliminará todo lo que sea diferente a una letra o un espacio. "
   ]
  },
  {
   "cell_type": "code",
   "execution_count": 5,
   "metadata": {
    "id": "KkAoo9q3e8re"
   },
   "outputs": [],
   "source": [
    "import re\n",
    "import unicodedata\n",
    "\n",
    "def clean_text(text):\n",
    "    # Elimina tildes\n",
    "    text = unicodedata.normalize('NFKD', text).encode('ascii', 'ignore').decode('utf-8', 'ignore')\n",
    "    \n",
    "    # Vuelve el texto minúscula\n",
    "    text = text.lower()\n",
    "    \n",
    "    # Elimina caracteres especiales y números\n",
    "    text = re.sub(r'[^a-zA-Z\\s]', '', text)\n",
    "    \n",
    "    # Elimina múltiples espacios\n",
    "    text = re.sub(r'\\s+', ' ', text)\n",
    "    \n",
    "    return text.strip()\n",
    "\n",
    "# Se aplica a \n",
    "df['lyrics'] = df['lyrics'].apply(clean_text)\n"
   ]
  },
  {
   "cell_type": "code",
   "execution_count": 6,
   "metadata": {
    "id": "R_8jYsHXEl_w"
   },
   "outputs": [],
   "source": [
    "genres = df.genre.unique().tolist()"
   ]
  },
  {
   "cell_type": "code",
   "execution_count": 7,
   "metadata": {
    "colab": {
     "base_uri": "https://localhost:8080/"
    },
    "id": "Yu_p8wfRyM_3",
    "outputId": "631a67c8-cb0f-47f2-dded-5ed1d58df5a5"
   },
   "outputs": [
    {
     "name": "stdout",
     "output_type": "stream",
     "text": [
      "la que te dijo que un vacio se lleno con otra persona te miente es como tapar\n",
      "una herida con maquillaje no se ve pero se siente te fuiste diciendo que me\n",
      "superaste y te conseguiste nueva novia lo que ella no sabe es que tu todavia me\n",
      "esta viendo toa las historias bebe que fue no pues que muy tragaito que haces\n",
      "buscandome el lao si sabes que yo errores no repito papi dile a tu nueva bebe\n",
      "que por hombres no compito que deje de estar tirando que al menos yo te tenia\n",
      "bonito verte con la nueva me dolio pero ya estoy puesta pa lo mio lo que vivimos\n",
      "se me olvido y eso es lo que te tiene ofendido que hasta la vida me mejoro por\n",
      "aca ya no eres bienvenido vi lo que tu novia me tiro eso no da ni rabia yo me\n",
      "rio yo me rio no tengo tiempo pa lo que no aporte ya cambie mi norte haciendo\n",
      "dinero como deporte llenando la cuenta los show el parking y el pasaporte estoy\n",
      "mas dura dicen los reportes ahora tu quieres volver se te nota mmm si esperame\n",
      "ahi que yo soy idiota se te olvido que estoy en otra y que te quedo grande la\n",
      "bichota bebe que fue no pues que muy tragaito que haces buscandome el lao si\n",
      "sabes que yo errores no repito dile a tu nueva bebe que por hombres no compito\n",
      "que deje de estar tirando que al menos yo te tenia bonito shakira shakira tu te\n",
      "fuiste y yo me puse triple m mas buena mas dura mas level volver contigo never\n",
      "tu eres la mala suerte porque ahora la bendicione me llueven y quieres volver ya\n",
      "lo suponia dandole like a las fotos mia tu buscando por fuera la comida y yo\n",
      "diciendo que era monotonia y ahora quieres volver ya lo suponia dandole like a\n",
      "las fotos mia te ves feliz con tu nueva vida pero si ella supiera que me busca\n",
      "todavia bebe que fue no pues que muy tragaito que haces buscandome el lao si\n",
      "sabes que yo errores no repito dile a tu nueva bebe que por hombres no compito\n",
      "mueve ese culito que no tiene buena mano y al menos yo te tenia bonito ooovy on\n",
      "the drums mi amor es que usted se alejo mucho y yo de lejos ya no veo bebe tqm\n",
      "pero tqg jajaja barranquilla medallo\n"
     ]
    }
   ],
   "source": [
    "lyrics = df[df.song_name.str.contains('tqg')].lyrics.iloc[0]\n",
    "wrapped_lyrics = textwrap.fill(lyrics, width=80)\n",
    "\n",
    "print(wrapped_lyrics)\n"
   ]
  },
  {
   "cell_type": "code",
   "execution_count": 8,
   "metadata": {
    "colab": {
     "base_uri": "https://localhost:8080/",
     "height": 206
    },
    "id": "sGRK-wztfW4d",
    "outputId": "62286e75-b036-4cda-abc7-94efd09525fe"
   },
   "outputs": [
    {
     "data": {
      "text/html": [
       "<div>\n",
       "<style scoped>\n",
       "    .dataframe tbody tr th:only-of-type {\n",
       "        vertical-align: middle;\n",
       "    }\n",
       "\n",
       "    .dataframe tbody tr th {\n",
       "        vertical-align: top;\n",
       "    }\n",
       "\n",
       "    .dataframe thead th {\n",
       "        text-align: right;\n",
       "    }\n",
       "</style>\n",
       "<table border=\"1\" class=\"dataframe\">\n",
       "  <thead>\n",
       "    <tr style=\"text-align: right;\">\n",
       "      <th></th>\n",
       "      <th>song_name</th>\n",
       "      <th>lyrics</th>\n",
       "      <th>genre</th>\n",
       "    </tr>\n",
       "  </thead>\n",
       "  <tbody>\n",
       "    <tr>\n",
       "      <th>0</th>\n",
       "      <td>quizas-part-rich-music-dalex-justin-quiles-wis...</td>\n",
       "      <td>hola the avengers quiero saber tu nombre y qui...</td>\n",
       "      <td>reggaeton</td>\n",
       "    </tr>\n",
       "    <tr>\n",
       "      <th>1</th>\n",
       "      <td>no-es-por-aca.txt</td>\n",
       "      <td>ya me mordi uno yo ya no la busco donde se las...</td>\n",
       "      <td>ranchera</td>\n",
       "    </tr>\n",
       "    <tr>\n",
       "      <th>2</th>\n",
       "      <td>ojitos-de-miel.txt</td>\n",
       "      <td>de tus labios me muero por un beso y de tus oj...</td>\n",
       "      <td>ranchera</td>\n",
       "    </tr>\n",
       "    <tr>\n",
       "      <th>3</th>\n",
       "      <td>lo-que-va-a-ser-para-uno.txt</td>\n",
       "      <td>no hay que culpar al destino por encontrarnos ...</td>\n",
       "      <td>ranchera</td>\n",
       "    </tr>\n",
       "    <tr>\n",
       "      <th>4</th>\n",
       "      <td>1406330.txt</td>\n",
       "      <td>ya viene amaneciendo la luz ya nos alumbra par...</td>\n",
       "      <td>ranchera</td>\n",
       "    </tr>\n",
       "  </tbody>\n",
       "</table>\n",
       "</div>"
      ],
      "text/plain": [
       "                                           song_name  \\\n",
       "0  quizas-part-rich-music-dalex-justin-quiles-wis...   \n",
       "1                                  no-es-por-aca.txt   \n",
       "2                                 ojitos-de-miel.txt   \n",
       "3                       lo-que-va-a-ser-para-uno.txt   \n",
       "4                                        1406330.txt   \n",
       "\n",
       "                                              lyrics      genre  \n",
       "0  hola the avengers quiero saber tu nombre y qui...  reggaeton  \n",
       "1  ya me mordi uno yo ya no la busco donde se las...   ranchera  \n",
       "2  de tus labios me muero por un beso y de tus oj...   ranchera  \n",
       "3  no hay que culpar al destino por encontrarnos ...   ranchera  \n",
       "4  ya viene amaneciendo la luz ya nos alumbra par...   ranchera  "
      ]
     },
     "execution_count": 8,
     "metadata": {},
     "output_type": "execute_result"
    }
   ],
   "source": [
    "df.head()"
   ]
  },
  {
   "cell_type": "code",
   "execution_count": 9,
   "metadata": {},
   "outputs": [
    {
     "name": "stdout",
     "output_type": "stream",
     "text": [
      "                                              song_name  \\\n",
      "0     quizas-part-rich-music-dalex-justin-quiles-wis...   \n",
      "1                                     no-es-por-aca.txt   \n",
      "2                                    ojitos-de-miel.txt   \n",
      "3                          lo-que-va-a-ser-para-uno.txt   \n",
      "4                                           1406330.txt   \n",
      "...                                                 ...   \n",
      "1014                                        el-menu.txt   \n",
      "1015                  viviendo-el-proceso-part-best.txt   \n",
      "1016                               el-pajaro-chogui.txt   \n",
      "1017                                        1141395.txt   \n",
      "1018                                        1187661.txt   \n",
      "\n",
      "                                                 lyrics      genre  \\\n",
      "0     hola the avengers quiero saber tu nombre y qui...  reggaeton   \n",
      "1     ya me mordi uno yo ya no la busco donde se las...   ranchera   \n",
      "2     de tus labios me muero por un beso y de tus oj...   ranchera   \n",
      "3     no hay que culpar al destino por encontrarnos ...   ranchera   \n",
      "4     ya viene amaneciendo la luz ya nos alumbra par...   ranchera   \n",
      "...                                                 ...        ...   \n",
      "1014  a mi me gusta el chivo con vino y el pescao co...      salsa   \n",
      "1015  me siento mal pero prometo que voy a estar mej...  reggaeton   \n",
      "1016  cuenta la leyenda que en un arbol se encontrab...      salsa   \n",
      "1017  por que tu amor es mi espina por las cuatro es...      salsa   \n",
      "1018  ya la higuera se seco ya tiene la raiz de fuer...   ranchera   \n",
      "\n",
      "      conteo_palabras  \n",
      "0                 525  \n",
      "1                 171  \n",
      "2                 267  \n",
      "3                 220  \n",
      "4                  72  \n",
      "...               ...  \n",
      "1014              259  \n",
      "1015              273  \n",
      "1016              194  \n",
      "1017              141  \n",
      "1018              114  \n",
      "\n",
      "[1019 rows x 4 columns]\n",
      "count    1019.000000\n",
      "mean      306.604514\n",
      "std       160.022529\n",
      "min        57.000000\n",
      "25%       190.500000\n",
      "50%       282.000000\n",
      "75%       384.000000\n",
      "max      1618.000000\n",
      "Name: conteo_palabras, dtype: float64\n"
     ]
    }
   ],
   "source": [
    "# Obtener la columna 'texto' del dataframe\n",
    "columna_texto = df['lyrics']\n",
    "\n",
    "# Iterar sobre cada registro y contar las palabras\n",
    "conteo_palabras = [len(registro.split()) for registro in columna_texto]\n",
    "\n",
    "# Agregar el conteo de palabras como una nueva columna en el dataframe\n",
    "df['conteo_palabras'] = conteo_palabras\n",
    "\n",
    "# Imprimir el dataframe con el conteo de palabras\n",
    "print(df)\n",
    "\n",
    "print(df['conteo_palabras'].describe())"
   ]
  },
  {
   "cell_type": "markdown",
   "metadata": {
    "id": "F5SyB8J6yxnV"
   },
   "source": [
    "# 2. Train-Test Split\n",
    "\n",
    "A continuación se realiza la división en train-val-test, para el entrenamiento del modelo. \n",
    "Esta división es importante por varias razones:\n",
    "1. Es necesario definir el vocabulario sobre el cual se va a entrenar el modelo [train].\n",
    "2. Es necesario hacer el seguimiento del entrenamiento del modelo en validación para evitar el overfitting [val].\n",
    "3. Utilizando test se mide el desempeño del modelo en la vida real [test]"
   ]
  },
  {
   "cell_type": "code",
   "execution_count": 10,
   "metadata": {
    "id": "y-8-jqOZfcid"
   },
   "outputs": [],
   "source": [
    "# Assuming your dataframe is called 'df'\n",
    "# Splitting the dataframe into features (X) and target variable (y)\n",
    "X = df.drop('genre', axis=1)\n",
    "y = df['genre']\n",
    "\n",
    "# Obtaining the total number of rows in the dataframe\n",
    "total_rows = df.shape[0]\n",
    "\n",
    "# Generating random indices for the train and test sets\n",
    "train_indices = np.random.choice(total_rows, int(0.7 * total_rows), replace=False)\n",
    "test_indices = np.setdiff1d(np.arange(total_rows), train_indices)\n",
    "\n",
    "### Realice la Partición en Train (70) y Test (30)\n",
    "\n",
    "train_df, test_df = train_test_split(df,test_size=0.3,random_state=42)\n",
    "\n",
    "### Particione el dataset de Train en Train (70) y validación (30)\n",
    "train_df, val_df = train_test_split(train_df,test_size=0.3,random_state=42)\n",
    "\n",
    "###"
   ]
  },
  {
   "cell_type": "markdown",
   "metadata": {
    "id": "NECdaZqn0HIc"
   },
   "source": [
    "# 3. Vocabulary and Sequences\n",
    "\n",
    "Para que el modelo pueda entender las canciones, debe tokenizarse para convertir las palabras en números. Para esto se utilizará el [`Tokenizer`](https://www.tensorflow.org/api_docs/python/tf/keras/preprocessing/text/Tokenizer) cuya responsabilidad es convertir una secuencia de texto (la canción) en una secuencia de números. \n",
    "\n",
    "Se debe definir el número máximo de palabras que aceptaremos por canción `max_length` y el tamaño del vocabulario `max_words`. \n",
    "\n",
    "Estos números no pueden ser aleatorios, pero se deben definir inicialmente para poder utilizarlos. Defina `max_words = 5000`. "
   ]
  },
  {
   "cell_type": "markdown",
   "metadata": {
    "id": "iUDyZ26d1fpR"
   },
   "source": [
    "A continuación, utilize [`Tokenizer`](https://www.tensorflow.org/api_docs/python/tf/keras/preprocessing/text/Tokenizer) y utilice el método `fit_on_texts` para aprender el vocabulario de las canciones que se encuentran en train. "
   ]
  },
  {
   "cell_type": "code",
   "execution_count": 11,
   "metadata": {
    "id": "cJ_jksJJ1e9e"
   },
   "outputs": [],
   "source": [
    "###\n",
    "tokenizer = Tokenizer(\n",
    "    num_words=384)\n",
    "tokenizer.fit_on_texts(train_df.lyrics)\n",
    "###\n",
    "word_index = tokenizer.word_index"
   ]
  },
  {
   "cell_type": "markdown",
   "metadata": {
    "id": "8WRykwiw3Kpg"
   },
   "source": [
    "El parámetro `num_words` determina la cantidad de palabras que se van a utilizar para el aprendizaje de los géneros de las canciones. ¿Cuánto es el tamaño del vocabulario más adecuado? \n",
    "\n",
    "En este caso se tienen 12366 palabras.\n",
    "\n",
    "Responder esta pregunta no es fácil. Sin embargo, es posible tomar las palabras que tengan mayor probabilidad, con una cobertura de hasta `coverage`. \n",
    "\n",
    "Se propone utilizar `coverage = 0.95` pero puede utilizar otro valor de cobertura para determinar el impacto en el modelo final. "
   ]
  },
  {
   "cell_type": "markdown",
   "metadata": {
    "id": "V74bYz1S30lD"
   },
   "source": [
    "A continuacíon "
   ]
  },
  {
   "cell_type": "code",
   "execution_count": 12,
   "metadata": {
    "colab": {
     "base_uri": "https://localhost:8080/"
    },
    "id": "o2T5vo8O3vJt",
    "outputId": "afb08551-a071-45f2-b868-47e6f31ae126"
   },
   "outputs": [
    {
     "name": "stdout",
     "output_type": "stream",
     "text": [
      "To achieve 70.0% coverage of the dataset, you need to use the top 375 most common words.\n"
     ]
    }
   ],
   "source": [
    "word_counts = list(tokenizer.word_counts.values())\n",
    "word_counts.sort(reverse=True)\n",
    "total_word_count = sum(word_counts)\n",
    "cumulative_word_count = 0\n",
    "\n",
    "###\n",
    "coverage = 0.70\n",
    "\n",
    "###\n",
    "\n",
    "for i, count in enumerate(word_counts):\n",
    "    cumulative_word_count += count\n",
    "    if cumulative_word_count / total_word_count >= coverage:\n",
    "        break\n",
    "\n",
    "optimal_words = i + 1\n",
    "print(f\"To achieve {coverage * 100}% coverage of the dataset, you need to use the top {optimal_words} most common words.\")\n"
   ]
  },
  {
   "cell_type": "markdown",
   "metadata": {
    "id": "C8VVL91r4elk"
   },
   "source": [
    "###### Teniendo en cuenta lo anterior, defina el parámetro `max_words` como la cantidad de palabras que cumple sus criterios de cobertura. Ajuste nuevamente el Tokenizador con la cantidad de palabras definida por usted. "
   ]
  },
  {
   "cell_type": "code",
   "execution_count": 13,
   "metadata": {
    "id": "AcVLV1U74k9U"
   },
   "outputs": [],
   "source": [
    "###\n",
    "max_words = 364\n",
    "\n",
    "tokenizer = Tokenizer(\n",
    "    num_words=max_words)\n",
    "tokenizer.fit_on_texts(train_df['lyrics'])\n",
    "###"
   ]
  },
  {
   "cell_type": "markdown",
   "metadata": {
    "id": "k51RD9Rr3X12"
   },
   "source": [
    "### A continuación se debe determinar cuál es el tamaño (o más representativo) de las canciones del dataset. Esta es la ventana de conocimiento máximo que se le pasará al modelo. \n",
    "\n",
    "Realice un histograma para determinar la distribución del tamaño de las canciones en el dataset de train. \n",
    "\n",
    "**Hint:** Puede utilizar el método [`pandas.Series.str.len`](https://pandas.pydata.org/docs/reference/api/pandas.Series.str.len.html) o cualquier otra forma para encontrar el tamaño de las secuencias. \n",
    "\n",
    "**Hint 2:** Utilice [`matplotlib.pyplot.hist`](https://matplotlib.org/stable/api/_as_gen/matplotlib.pyplot.hist.html) para crear un historgrama."
   ]
  },
  {
   "cell_type": "code",
   "execution_count": 14,
   "metadata": {
    "colab": {
     "base_uri": "https://localhost:8080/",
     "height": 449
    },
    "id": "4SJHvYIKgBjD",
    "outputId": "1a7efccd-5971-499a-c11f-3d6e95af4c07"
   },
   "outputs": [
    {
     "data": {
      "image/png": "[encoded data removed]",
      "text/plain": [
       "<Figure size 640x480 with 1 Axes>"
      ]
     },
     "metadata": {},
     "output_type": "display_data"
    }
   ],
   "source": [
    "import matplotlib.pyplot as plt\n",
    "\n",
    "### Haga el gráfico del histograma\n",
    "# Obtener la columna 'texto' del dataframe\n",
    "columna_texto = train_df['lyrics']\n",
    "\n",
    "# Iterar sobre cada registro y contar las palabras\n",
    "conteo_palabras = [len(registro.split()) for registro in columna_texto]\n",
    "\n",
    "\n",
    "plt.hist(conteo_palabras, bins=50, edgecolor='black')\n",
    "\n",
    "###\n",
    "plt.xlabel('Sequence Length')\n",
    "plt.ylabel('Frequency')\n",
    "plt.show()"
   ]
  },
  {
   "cell_type": "markdown",
   "metadata": {
    "id": "74y8jbBg_mrx"
   },
   "source": [
    "Teniendo en cuenta el historgrama anterior, determine el tamaño de la secuencia máxima para el modelo, en `max_length`. "
   ]
  },
  {
   "cell_type": "code",
   "execution_count": 15,
   "metadata": {
    "id": "Xk2sfe1_Aitb"
   },
   "outputs": [],
   "source": [
    "max_length = 400"
   ]
  },
  {
   "cell_type": "markdown",
   "metadata": {
    "id": "QSJ5DgbBHg8Y"
   },
   "source": [
    "# Tokenización de Secuencias para Entrenamiento \n",
    "\n",
    "Con lo anterior, ya se tiene definida la forma en que se tokenizará el texto para el modelo. Utilice el método `fit_on_texts` para transformar los datos de train, test y validación. "
   ]
  },
  {
   "cell_type": "markdown",
   "metadata": {
    "id": "ofo8RNrVhaAE"
   },
   "source": [
    "El Tokenizador  ya conoce el vocabulario que se va a utilizar en el diccionario. Por lo anterior, es necesario transformar las canciones en las secuencias de texto correspondientes. Para esto, se utilizará el método [`.texts_to_sequences`](https://www.tensorflow.org/api_docs/python/tf/keras/preprocessing/text/Tokenizer#texts_to_sequences) sobre los datos de train, test y validación. \n"
   ]
  },
  {
   "cell_type": "code",
   "execution_count": 16,
   "metadata": {
    "id": "qRsZvep7flaw"
   },
   "outputs": [],
   "source": [
    "X_train = tokenizer.texts_to_sequences(train_df['lyrics'])\n",
    "X_val = tokenizer.texts_to_sequences(val_df['lyrics'])\n",
    "X_test = tokenizer.texts_to_sequences(test_df['lyrics'])"
   ]
  },
  {
   "cell_type": "markdown",
   "metadata": {
    "id": "cp3vpHaJH-zO"
   },
   "source": [
    "\n",
    "Anteriormente se definió un largo máximo para la secuencia (la cantidad de palabras en las canciones). Esta información se encuentra en `max_length`. Como es posible tener canciones con pocas palabras (menos de `max_length`) o muy largas (más de `max_length`) es necesario utilizar una técnica que se llama `padding`, con el objetivo de estandarizar el tamaño del input que procesará la red neuronal. \n",
    "\n",
    "De esta formas, canciones con diferente tamaño tendrán la misma longitud. \n",
    "\n",
    "Un ejemplo de lo anterior es, \n",
    "\n",
    "\n",
    "| Before padding | After padding (with maxlen=6) |\n",
    "| :--- | :--- |\n",
    "| `[\"qué\", \"fue\", \"bebé\"]` | `[0, 0, 0, \"qué\", \"fue\", \"bebé\"]` |\n",
    "| `[\"porque\", \"la\", \"noche\", \"de\", \"anoche\", \"fue\"]` | `[\"porque\", \"la\", \"noche\", \"de\", \"anoche\", \"fue\"]` |\n",
    "| `[\"altanera\", \"preciosa\", \"y\", \"orgullosa\", \"no\", \"permite\", \"la\", \"quieran\", \"consolar\"]` | `[\"altanera\", \"preciosa\", \"y\", \"orgullosa\", \"no\", \"permite\"]` |\n",
    "\n",
    "\n",
    "Utilice el método [`pad_sequences`](https://www.tensorflow.org/api_docs/python/tf/keras/utils/pad_sequences) para garantizar que todas las secuencias de texto tengan el mismo tamaño, siendo este `max_length`. \n"
   ]
  },
  {
   "cell_type": "code",
   "execution_count": 17,
   "metadata": {
    "id": "XxqNvfJBICAu"
   },
   "outputs": [],
   "source": [
    "###\n",
    "X_train = None\n",
    "X_val = None\n",
    "X_test = None\n",
    "###"
   ]
  },
  {
   "cell_type": "markdown",
   "metadata": {
    "id": "_nn5vMBqKplb"
   },
   "source": [
    "A continuación se puede observar un ejemplo de la tokenización y el padding. "
   ]
  },
  {
   "cell_type": "code",
   "execution_count": 18,
   "metadata": {
    "id": "8aexIg9TtBq_"
   },
   "outputs": [],
   "source": [
    "tokenized_bichota =  tokenizer.texts_to_sequences([\"baby que mas hace rato que no sé anda de ti\"])"
   ]
  },
  {
   "cell_type": "code",
   "execution_count": 19,
   "metadata": {
    "id": "7-k6ONG9D6Gc"
   },
   "outputs": [],
   "source": [
    "#tokenized_bichota"
   ]
  },
  {
   "cell_type": "code",
   "execution_count": 20,
   "metadata": {
    "id": "9qxUYgNCKtUd"
   },
   "outputs": [],
   "source": [
    "tokenized_bichota = pad_sequences(tokenized_bichota, maxlen=20) # Ejemplo con 20 de padding. "
   ]
  },
  {
   "cell_type": "code",
   "execution_count": 21,
   "metadata": {
    "colab": {
     "base_uri": "https://localhost:8080/"
    },
    "id": "SWKTZOQ1tJ_0",
    "outputId": "e97cf15e-87f5-4dbf-fc9d-2a88db7a8642"
   },
   "outputs": [
    {
     "name": "stdout",
     "output_type": "stream",
     "text": [
      "? ? ? ? ? ? ? ? ? ? ? ? baby que mas hace que no de ti\n"
     ]
    }
   ],
   "source": [
    "## Interpreta una secuencia de números en los tokens\n",
    "reverse_word_index = dict([(value, key) for (key, value) in tokenizer.word_index.items()])\n",
    "\n",
    "# Decodifica el texto\n",
    "decoded_text = [reverse_word_index.get(i, '?') for i in tokenized_bichota[0]]\n",
    "\n",
    "# Generación de Frase\n",
    "original_text = ' '.join(decoded_text)\n",
    "print(original_text)\n"
   ]
  },
  {
   "cell_type": "markdown",
   "metadata": {
    "id": "IpzP6hcqL0I0"
   },
   "source": [
    "A continuación se acomoda el target del modelo por la categoría."
   ]
  },
  {
   "cell_type": "code",
   "execution_count": 22,
   "metadata": {
    "id": "s4P2JbMvfoJ5"
   },
   "outputs": [],
   "source": [
    "genre_index = {genre: i for i, genre in enumerate(genres)}\n",
    "\n",
    "y_train = train_df['genre'].apply(lambda x: genre_index[x]).values\n",
    "y_val = val_df['genre'].apply(lambda x: genre_index[x]).values\n",
    "y_test = test_df['genre'].apply(lambda x: genre_index[x]).values\n"
   ]
  },
  {
   "cell_type": "code",
   "execution_count": 23,
   "metadata": {
    "colab": {
     "base_uri": "https://localhost:8080/"
    },
    "id": "kqH9X3Zrrkaw",
    "outputId": "71352239-2afd-49be-88e8-a380b3b7b397"
   },
   "outputs": [
    {
     "data": {
      "text/plain": [
       "{'reggaeton': 0, 'ranchera': 1, 'salsa': 2}"
      ]
     },
     "execution_count": 23,
     "metadata": {},
     "output_type": "execute_result"
    }
   ],
   "source": [
    "genre_index"
   ]
  },
  {
   "cell_type": "code",
   "execution_count": 24,
   "metadata": {
    "id": "Dn1o2gYdvGF2"
   },
   "outputs": [],
   "source": [
    "from tensorflow.keras.callbacks import LearningRateScheduler\n",
    "\n",
    "def step_decay(epoch):\n",
    "    initial_lr = 0.01#0.001\n",
    "    drop_rate = 0.5\n",
    "    epochs_drop = 10\n",
    "    lr = initial_lr * drop_rate ** (epoch // epochs_drop)\n",
    "    return lr\n",
    "\n",
    "lr_scheduler = LearningRateScheduler(step_decay)\n"
   ]
  },
  {
   "cell_type": "code",
   "execution_count": 25,
   "metadata": {
    "id": "7sVThG60NY3E"
   },
   "outputs": [],
   "source": [
    "from tensorflow.keras.layers import Dropout\n",
    "from tensorflow.keras.callbacks import EarlyStopping\n",
    "from tensorflow.keras.callbacks import TensorBoard\n",
    "from tensorflow.keras.regularizers import l2\n",
    "from tensorflow.keras.optimizers import Adam\n",
    "from tensorflow.keras.callbacks import LearningRateScheduler"
   ]
  },
  {
   "cell_type": "markdown",
   "metadata": {
    "id": "aROOPCiWNZ17"
   },
   "source": [
    "A continuación defina su modelo de Red Neuronal. Se recomienda utilizar una Embedding Layer ([`tf.keras.layers.Embedding`](https://www.tensorflow.org/api_docs/python/tf/keras/layers/Embedding) para generar representaciones vectoriales de cada uno de los `tokens` presentes en el vocabulario del modelo. \n",
    "\n",
    "Adicionalmente, utilice celdas [`tf.keras.kayers.LSTM`](https://www.tensorflow.org/api_docs/python/tf/keras/layers/LSTM) para modelar la naturaleza secuencial de los datos. \n",
    "\n",
    "Puede utilizar también celdas [`tf.keras.layers.Bidirectional`](https://www.tensorflow.org/api_docs/python/tf/keras/layers/Bidirectional) para permitir generar conexiones en la dirección opuesta a la secuencia original. \n",
    "\n",
    "Incluya dropout, regularización y Early Stopping si considera necesario. "
   ]
  },
  {
   "cell_type": "code",
   "execution_count": 26,
   "metadata": {
    "id": "XOFbtgl0iqz9"
   },
   "outputs": [
    {
     "ename": "TypeError",
     "evalue": "The added layer must be an instance of class Layer. Received: layer=None of type <class 'NoneType'>.",
     "output_type": "error",
     "traceback": [
      "\u001b[1;31m---------------------------------------------------------------------------\u001b[0m",
      "\u001b[1;31mTypeError\u001b[0m                                 Traceback (most recent call last)",
      "\u001b[1;32m~\\AppData\\Local\\Temp\\ipykernel_12000\\2554952889.py\u001b[0m in \u001b[0;36m<module>\u001b[1;34m\u001b[0m\n\u001b[0;32m      1\u001b[0m \u001b[1;31m###\u001b[0m\u001b[1;33m\u001b[0m\u001b[1;33m\u001b[0m\u001b[0m\n\u001b[1;32m----> 2\u001b[1;33m LSTM_model = Sequential([\n\u001b[0m\u001b[0;32m      3\u001b[0m \u001b[1;33m\u001b[0m\u001b[0m\n\u001b[0;32m      4\u001b[0m     \u001b[0mEmbedding\u001b[0m\u001b[1;33m(\u001b[0m\u001b[0mmax_words\u001b[0m\u001b[1;33m,\u001b[0m \u001b[1;36m128\u001b[0m\u001b[1;33m,\u001b[0m \u001b[0minput_length\u001b[0m\u001b[1;33m=\u001b[0m\u001b[0mmax_length\u001b[0m\u001b[1;33m)\u001b[0m\u001b[1;33m,\u001b[0m \u001b[1;31m# No elimine. Puede cambiar 128 por otra dimensión\u001b[0m\u001b[1;33m\u001b[0m\u001b[1;33m\u001b[0m\u001b[0m\n\u001b[0;32m      5\u001b[0m     \u001b[1;32mNone\u001b[0m\u001b[1;33m,\u001b[0m\u001b[1;33m\u001b[0m\u001b[1;33m\u001b[0m\u001b[0m\n",
      "\u001b[1;32m~\\Anaconda3\\lib\\site-packages\\tensorflow\\python\\trackable\\base.py\u001b[0m in \u001b[0;36m_method_wrapper\u001b[1;34m(self, *args, **kwargs)\u001b[0m\n\u001b[0;32m    203\u001b[0m     \u001b[0mself\u001b[0m\u001b[1;33m.\u001b[0m\u001b[0m_self_setattr_tracking\u001b[0m \u001b[1;33m=\u001b[0m \u001b[1;32mFalse\u001b[0m  \u001b[1;31m# pylint: disable=protected-access\u001b[0m\u001b[1;33m\u001b[0m\u001b[1;33m\u001b[0m\u001b[0m\n\u001b[0;32m    204\u001b[0m     \u001b[1;32mtry\u001b[0m\u001b[1;33m:\u001b[0m\u001b[1;33m\u001b[0m\u001b[1;33m\u001b[0m\u001b[0m\n\u001b[1;32m--> 205\u001b[1;33m       \u001b[0mresult\u001b[0m \u001b[1;33m=\u001b[0m \u001b[0mmethod\u001b[0m\u001b[1;33m(\u001b[0m\u001b[0mself\u001b[0m\u001b[1;33m,\u001b[0m \u001b[1;33m*\u001b[0m\u001b[0margs\u001b[0m\u001b[1;33m,\u001b[0m \u001b[1;33m**\u001b[0m\u001b[0mkwargs\u001b[0m\u001b[1;33m)\u001b[0m\u001b[1;33m\u001b[0m\u001b[1;33m\u001b[0m\u001b[0m\n\u001b[0m\u001b[0;32m    206\u001b[0m     \u001b[1;32mfinally\u001b[0m\u001b[1;33m:\u001b[0m\u001b[1;33m\u001b[0m\u001b[1;33m\u001b[0m\u001b[0m\n\u001b[0;32m    207\u001b[0m       \u001b[0mself\u001b[0m\u001b[1;33m.\u001b[0m\u001b[0m_self_setattr_tracking\u001b[0m \u001b[1;33m=\u001b[0m \u001b[0mprevious_value\u001b[0m  \u001b[1;31m# pylint: disable=protected-access\u001b[0m\u001b[1;33m\u001b[0m\u001b[1;33m\u001b[0m\u001b[0m\n",
      "\u001b[1;32m~\\Anaconda3\\lib\\site-packages\\keras\\utils\\traceback_utils.py\u001b[0m in \u001b[0;36merror_handler\u001b[1;34m(*args, **kwargs)\u001b[0m\n\u001b[0;32m     68\u001b[0m             \u001b[1;31m# To get the full stack trace, call:\u001b[0m\u001b[1;33m\u001b[0m\u001b[1;33m\u001b[0m\u001b[0m\n\u001b[0;32m     69\u001b[0m             \u001b[1;31m# `tf.debugging.disable_traceback_filtering()`\u001b[0m\u001b[1;33m\u001b[0m\u001b[1;33m\u001b[0m\u001b[0m\n\u001b[1;32m---> 70\u001b[1;33m             \u001b[1;32mraise\u001b[0m \u001b[0me\u001b[0m\u001b[1;33m.\u001b[0m\u001b[0mwith_traceback\u001b[0m\u001b[1;33m(\u001b[0m\u001b[0mfiltered_tb\u001b[0m\u001b[1;33m)\u001b[0m \u001b[1;32mfrom\u001b[0m \u001b[1;32mNone\u001b[0m\u001b[1;33m\u001b[0m\u001b[1;33m\u001b[0m\u001b[0m\n\u001b[0m\u001b[0;32m     71\u001b[0m         \u001b[1;32mfinally\u001b[0m\u001b[1;33m:\u001b[0m\u001b[1;33m\u001b[0m\u001b[1;33m\u001b[0m\u001b[0m\n\u001b[0;32m     72\u001b[0m             \u001b[1;32mdel\u001b[0m \u001b[0mfiltered_tb\u001b[0m\u001b[1;33m\u001b[0m\u001b[1;33m\u001b[0m\u001b[0m\n",
      "\u001b[1;32m~\\Anaconda3\\lib\\site-packages\\keras\\engine\\sequential.py\u001b[0m in \u001b[0;36madd\u001b[1;34m(self, layer)\u001b[0m\n\u001b[0;32m    183\u001b[0m                 \u001b[0mlayer\u001b[0m \u001b[1;33m=\u001b[0m \u001b[0mfunctional\u001b[0m\u001b[1;33m.\u001b[0m\u001b[0mModuleWrapper\u001b[0m\u001b[1;33m(\u001b[0m\u001b[0mlayer\u001b[0m\u001b[1;33m)\u001b[0m\u001b[1;33m\u001b[0m\u001b[1;33m\u001b[0m\u001b[0m\n\u001b[0;32m    184\u001b[0m         \u001b[1;32melse\u001b[0m\u001b[1;33m:\u001b[0m\u001b[1;33m\u001b[0m\u001b[1;33m\u001b[0m\u001b[0m\n\u001b[1;32m--> 185\u001b[1;33m             raise TypeError(\n\u001b[0m\u001b[0;32m    186\u001b[0m                 \u001b[1;34m\"The added layer must be an instance of class Layer. \"\u001b[0m\u001b[1;33m\u001b[0m\u001b[1;33m\u001b[0m\u001b[0m\n\u001b[0;32m    187\u001b[0m                 \u001b[1;34mf\"Received: layer={layer} of type {type(layer)}.\"\u001b[0m\u001b[1;33m\u001b[0m\u001b[1;33m\u001b[0m\u001b[0m\n",
      "\u001b[1;31mTypeError\u001b[0m: The added layer must be an instance of class Layer. Received: layer=None of type <class 'NoneType'>."
     ]
    }
   ],
   "source": [
    "###\n",
    "LSTM_model = Sequential([\n",
    "    \n",
    "    Embedding(max_words, 128, input_length=max_length), # No elimine. Puede cambiar 128 por otra dimensión\n",
    "    None, \n",
    "])\n",
    "\n",
    "###\n",
    "\n"
   ]
  },
  {
   "cell_type": "markdown",
   "metadata": {
    "id": "CYsvxTddP1hq"
   },
   "source": [
    "Se va a definir un learning Rate Schedule en el que las tasa de aprendizaje disminuye conforme avanza el entrenamiento del modelo. "
   ]
  },
  {
   "cell_type": "code",
   "execution_count": null,
   "metadata": {
    "id": "M6wgfMFmPyE3"
   },
   "outputs": [],
   "source": [
    "\n",
    "\n",
    "def scheduler(epoch, lr):\n",
    "    min_lr = 1e-6  # Mínimo Learning Rate\n",
    "    if epoch % 10 == 0 and epoch != 0:\n",
    "        new_lr = lr * 0.1\n",
    "        return max(new_lr, min_lr)  # Devuelva la learning rate\n",
    "    else:\n",
    "        return lr\n",
    "\n",
    "\n",
    "lr_scheduler = LearningRateScheduler(scheduler, verbose=0)\n",
    "\n",
    "\n",
    "initial_lr = 0.001\n",
    "optimizer = Adam(learning_rate=initial_lr)"
   ]
  },
  {
   "cell_type": "markdown",
   "metadata": {
    "id": "Oo48Dw5NQT_8"
   },
   "source": [
    "Compile el modelo. Recuerde definir función de pérdida y las métricas de validación adecuadas para este problema."
   ]
  },
  {
   "cell_type": "code",
   "execution_count": null,
   "metadata": {
    "id": "B1etS5-qQH6q"
   },
   "outputs": [],
   "source": [
    "###\n",
    "LSTM_model.compile(None)\n",
    "\n",
    "###\n",
    "\n"
   ]
  },
  {
   "cell_type": "markdown",
   "metadata": {
    "id": "0oD0zyOhQI0L"
   },
   "source": [
    "A continuación, cree el CallBack para el Early Stopping del Modelo"
   ]
  },
  {
   "cell_type": "code",
   "execution_count": null,
   "metadata": {
    "id": "30SU9yiOQgh1"
   },
   "outputs": [],
   "source": [
    "###\n",
    "early_stopping = EarlyStopping(None)\n",
    "###"
   ]
  },
  {
   "cell_type": "markdown",
   "metadata": {
    "id": "QsuW_QKzSEpe"
   },
   "source": [
    "Y se crea un callback de TensorFlow para guardar los valores de la embedding layer."
   ]
  },
  {
   "cell_type": "code",
   "execution_count": null,
   "metadata": {
    "colab": {
     "base_uri": "https://localhost:8080/"
    },
    "id": "9-Ua2OJPSCAw",
    "outputId": "038727cc-6bb8-461e-cdc1-77c1bd3822ae"
   },
   "outputs": [],
   "source": [
    "log_dir = './logs'\n",
    "tensorboard_callback = TensorBoard(log_dir=log_dir, \n",
    "                                   embeddings_freq=1, \n",
    "                                   embeddings_layer_names=['embedding'], \n",
    "                                   embeddings_metadata='metadata.tsv')"
   ]
  },
  {
   "cell_type": "markdown",
   "metadata": {
    "id": "gr48bmSOQp_F"
   },
   "source": [
    "A continuación entre el modelo... "
   ]
  },
  {
   "cell_type": "code",
   "execution_count": null,
   "metadata": {
    "colab": {
     "base_uri": "https://localhost:8080/"
    },
    "id": "yPmzu5llQQ5L",
    "outputId": "f6dc17cc-4653-44f1-b4f3-cf20c4461678"
   },
   "outputs": [],
   "source": [
    "\n",
    "history = LSTM_model.fit(X_train, y_train, \n",
    "                                  validation_data=(X_val, y_val), \n",
    "                                  epochs=100, \n",
    "                                  batch_size=64, \n",
    "                                  callbacks=[early_stopping, lr_scheduler, tensorboard_callback ])"
   ]
  },
  {
   "cell_type": "code",
   "execution_count": null,
   "metadata": {
    "id": "icnQBWFYPLey"
   },
   "outputs": [],
   "source": [
    "import matplotlib.pyplot as plt\n",
    "\n",
    "\n",
    "def plot_graphs(history, metric):\n",
    "  plt.plot(history.history[metric])\n",
    "  plt.plot(history.history['val_'+metric], '')\n",
    "  plt.xlabel(\"Epochs\")\n",
    "  plt.ylabel(metric)\n",
    "  plt.legend([metric, 'val_'+metric])"
   ]
  },
  {
   "cell_type": "code",
   "execution_count": null,
   "metadata": {
    "colab": {
     "base_uri": "https://localhost:8080/",
     "height": 719
    },
    "id": "Th-yNptxPRju",
    "outputId": "181f7c29-a884-465b-c10a-dbdef3ccb394"
   },
   "outputs": [],
   "source": [
    "plt.figure(figsize=(16, 8))\n",
    "plt.subplot(1, 2, 1)\n",
    "plot_graphs(history, 'accuracy')\n",
    "plt.ylim(None, 1)\n",
    "plt.subplot(1, 2, 2)\n",
    "plot_graphs(history, 'loss')\n",
    "plt.ylim(0, None)"
   ]
  },
  {
   "cell_type": "markdown",
   "metadata": {
    "id": "mmlAx5IdOfCC"
   },
   "source": [
    "A continuación se realiza la evaluación del modelo en test. "
   ]
  },
  {
   "cell_type": "code",
   "execution_count": null,
   "metadata": {
    "id": "xTHYu56y7YXY"
   },
   "outputs": [],
   "source": [
    "import numpy as np\n",
    "from sklearn.metrics import confusion_matrix, ConfusionMatrixDisplay\n",
    "\n",
    "# Assuming lstm_advanced_model is the model you want to use\n",
    "# Make predictions on the test set\n",
    "predictions = LSTM_model.predict(X_test)\n",
    "predicted_classes = np.argmax(predictions, axis=1)\n",
    "\n",
    "# Calculate the confusion matrix\n",
    "cm = confusion_matrix(y_test, predicted_classes)\n",
    "\n",
    "# Define your genre_index dictionary\n",
    "\n",
    "# Sort the dictionary by values and extract the keys (labels)\n",
    "labels = [k for k, v in sorted(genre_index.items(), key=lambda item: item[1])]\n",
    "\n",
    "# Plot the confusion matrix\n",
    "fig, ax = plt.subplots(figsize=(8, 8))\n",
    "disp = ConfusionMatrixDisplay(confusion_matrix=cm, display_labels=labels)\n",
    "disp.plot(ax=ax)\n",
    "plt.show()\n"
   ]
  },
  {
   "cell_type": "markdown",
   "metadata": {
    "id": "ncjkVssrOymT"
   },
   "source": [
    "¿Qué puede concluir del desempeño del modelo?"
   ]
  },
  {
   "cell_type": "code",
   "execution_count": null,
   "metadata": {},
   "outputs": [],
   "source": []
  },
  {
   "cell_type": "code",
   "execution_count": null,
   "metadata": {},
   "outputs": [],
   "source": []
  },
  {
   "cell_type": "code",
   "execution_count": null,
   "metadata": {},
   "outputs": [],
   "source": []
  },
  {
   "cell_type": "code",
   "execution_count": null,
   "metadata": {},
   "outputs": [],
   "source": []
  }
 ],
 "metadata": {
  "colab": {
   "provenance": []
  },
  "kernelspec": {
   "display_name": "Python 3 (ipykernel)",
   "language": "python",
   "name": "python3"
  },
  "language_info": {
   "codemirror_mode": {
    "name": "ipython",
    "version": 3
   },
   "file_extension": ".py",
   "mimetype": "text/x-python",
   "name": "python",
   "nbconvert_exporter": "python",
   "pygments_lexer": "ipython3",
   "version": "3.9.13"
  }
 },
 "nbformat": 4,
 "nbformat_minor": 1
}
